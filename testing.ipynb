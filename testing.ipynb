{
    "cells": [
        {
            "cell_type": "code",
            "execution_count": 3,
            "source": [
                "import os\n",
                "import torch\n",
                "import segmentation_models_pytorch as smp\n",
                "import matplotlib.pyplot as plt\n",
                "import numpy as np\n",
                "from PIL import Image\n",
                "import torchvision.transforms.functional as TF\n",
                "DEVICE = torch.device('cuda')\n"
            ],
            "outputs": [],
            "metadata": {}
        },
        {
            "cell_type": "code",
            "execution_count": 98,
            "source": [
                "import os\n",
                "print(os.getcwd())\n",
                "impath = 'models/data/testmask.png'\n",
                "img = Image.open(impath)\n",
                "x = TF.to_tensor(img)\n",
                "x = x.squeeze(0)\n",
                "print(x.shape)"
            ],
            "outputs": [
                {
                    "output_type": "stream",
                    "name": "stdout",
                    "text": [
                        "/home/sean/Documents/scripts/segs\n",
                        "torch.Size([3, 874, 1164])\n"
                    ]
                }
            ],
            "metadata": {}
        },
        {
            "cell_type": "code",
            "execution_count": 99,
            "source": [
                "ig = plt.imshow(x.permute(1,2,0).detach().cpu().numpy())\n",
                "plt.show(ig)"
            ],
            "outputs": [
                {
                    "output_type": "display_data",
                    "data": {
                        "text/plain": [
                            "<Figure size 432x288 with 1 Axes>"
                        ],
                        "image/png": "[encoded data removed]"
                    },
                    "metadata": {
                        "needs_background": "light"
                    }
                }
            ],
            "metadata": {}
        },
        {
            "cell_type": "code",
            "execution_count": 8,
            "source": [
                "x.shape"
            ],
            "outputs": [
                {
                    "output_type": "execute_result",
                    "data": {
                        "text/plain": [
                            "torch.Size([3, 874, 1164])"
                        ]
                    },
                    "metadata": {},
                    "execution_count": 8
                }
            ],
            "metadata": {}
        },
        {
            "cell_type": "code",
            "execution_count": 10,
            "source": [
                "t = x *255"
            ],
            "outputs": [],
            "metadata": {}
        },
        {
            "cell_type": "code",
            "execution_count": 11,
            "source": [
                "t"
            ],
            "outputs": [
                {
                    "output_type": "execute_result",
                    "data": {
                        "text/plain": [
                            "tensor([[[128., 128., 128.,  ..., 128., 128., 128.],\n",
                            "         [128., 128., 128.,  ..., 128., 128., 128.],\n",
                            "         [128., 128., 128.,  ..., 128., 128., 128.],\n",
                            "         ...,\n",
                            "         [204., 204., 204.,  ..., 204., 204., 204.],\n",
                            "         [204., 204., 204.,  ..., 204., 204., 204.],\n",
                            "         [204., 204., 204.,  ..., 204., 204., 204.]],\n",
                            "\n",
                            "        [[128., 128., 128.,  ..., 128., 128., 128.],\n",
                            "         [128., 128., 128.,  ..., 128., 128., 128.],\n",
                            "         [128., 128., 128.,  ..., 128., 128., 128.],\n",
                            "         ...,\n",
                            "         [  0.,   0.,   0.,  ...,   0.,   0.,   0.],\n",
                            "         [  0.,   0.,   0.,  ...,   0.,   0.,   0.],\n",
                            "         [  0.,   0.,   0.,  ...,   0.,   0.,   0.]],\n",
                            "\n",
                            "        [[ 96.,  96.,  96.,  ...,  96.,  96.,  96.],\n",
                            "         [ 96.,  96.,  96.,  ...,  96.,  96.,  96.],\n",
                            "         [ 96.,  96.,  96.,  ...,  96.,  96.,  96.],\n",
                            "         ...,\n",
                            "         [255., 255., 255.,  ..., 255., 255., 255.],\n",
                            "         [255., 255., 255.,  ..., 255., 255., 255.],\n",
                            "         [255., 255., 255.,  ..., 255., 255., 255.]]], device='cuda:0')"
                        ]
                    },
                    "metadata": {},
                    "execution_count": 11
                }
            ],
            "metadata": {}
        },
        {
            "cell_type": "code",
            "execution_count": 12,
            "source": [
                "pred = torch.argmax(t, dim = 0)"
            ],
            "outputs": [],
            "metadata": {}
        },
        {
            "cell_type": "code",
            "execution_count": 23,
            "source": [
                "t[:,:,0].shape"
            ],
            "outputs": [
                {
                    "output_type": "execute_result",
                    "data": {
                        "text/plain": [
                            "torch.Size([3, 874])"
                        ]
                    },
                    "metadata": {},
                    "execution_count": 23
                }
            ],
            "metadata": {}
        },
        {
            "cell_type": "code",
            "execution_count": 88,
            "source": [
                "road = torch.tensor([64,32,32]).unsqueeze(0)\n",
                "lane = torch.tensor([255,0,0]).unsqueeze(0)\n",
                "undrive = torch.tensor([128,128,96]).unsqueeze(0)\n",
                "moveable = torch.tensor([0,255,102]).unsqueeze(0)\n",
                "mycar = torch.tensor([204,0,255]).unsqueeze(0)\n",
                "\n",
                "colourmap = torch.cat((road,lane,undrive,moveable,mycar), dim =0)\n",
                "print(colourmap.shape)\n",
                "print(colourmap)"
            ],
            "outputs": [
                {
                    "output_type": "stream",
                    "name": "stdout",
                    "text": [
                        "torch.Size([5, 3])\n",
                        "tensor([[ 64,  32,  32],\n",
                        "        [255,   0,   0],\n",
                        "        [128, 128,  96],\n",
                        "        [  0, 255, 102],\n",
                        "        [204,   0, 255]])\n"
                    ]
                }
            ],
            "metadata": {}
        },
        {
            "cell_type": "code",
            "execution_count": 89,
            "source": [
                "c = colourmap/255\n",
                "print(c)"
            ],
            "outputs": [
                {
                    "output_type": "stream",
                    "name": "stdout",
                    "text": [
                        "tensor([[0.2510, 0.1255, 0.1255],\n",
                        "        [1.0000, 0.0000, 0.0000],\n",
                        "        [0.5020, 0.5020, 0.3765],\n",
                        "        [0.0000, 1.0000, 0.4000],\n",
                        "        [0.8000, 0.0000, 1.0000]])\n"
                    ]
                }
            ],
            "metadata": {}
        },
        {
            "cell_type": "code",
            "execution_count": 87,
            "source": [
                "print(colourmap)"
            ],
            "outputs": [
                {
                    "output_type": "stream",
                    "name": "stdout",
                    "text": [
                        "tensor([[ 64,  32,  32, 255,   0],\n",
                        "        [  0, 128, 128,  96,   0],\n",
                        "        [255, 102, 204,   0, 255]])\n"
                    ]
                }
            ],
            "metadata": {}
        },
        {
            "cell_type": "code",
            "execution_count": 46,
            "source": [
                "c"
            ],
            "outputs": [
                {
                    "output_type": "execute_result",
                    "data": {
                        "text/plain": [
                            "tensor([[0.2510, 0.1255, 0.1255],\n",
                            "        [1.0000, 0.0000, 0.0000],\n",
                            "        [0.5020, 0.5020, 0.3765],\n",
                            "        [0.0000, 1.0000, 0.4000],\n",
                            "        [0.8000, 0.0000, 1.0000]])"
                        ]
                    },
                    "metadata": {},
                    "execution_count": 46
                }
            ],
            "metadata": {}
        },
        {
            "cell_type": "code",
            "execution_count": 61,
            "source": [
                "c = c.reshape(3,5)"
            ],
            "outputs": [],
            "metadata": {}
        },
        {
            "cell_type": "code",
            "execution_count": 49,
            "source": [
                "x.shape"
            ],
            "outputs": [
                {
                    "output_type": "execute_result",
                    "data": {
                        "text/plain": [
                            "torch.Size([3, 874, 1164])"
                        ]
                    },
                    "metadata": {},
                    "execution_count": 49
                }
            ],
            "metadata": {}
        },
        {
            "cell_type": "code",
            "execution_count": 66,
            "source": [
                "x[:,:,0][:,0].shape"
            ],
            "outputs": [
                {
                    "output_type": "execute_result",
                    "data": {
                        "text/plain": [
                            "torch.Size([3])"
                        ]
                    },
                    "metadata": {},
                    "execution_count": 66
                }
            ],
            "metadata": {}
        },
        {
            "cell_type": "code",
            "execution_count": 79,
            "source": [
                "torch.where(x == r)"
            ],
            "outputs": [
                {
                    "output_type": "error",
                    "ename": "RuntimeError",
                    "evalue": "The size of tensor a (1164) must match the size of tensor b (3) at non-singleton dimension 2",
                    "traceback": [
                        "\u001b[0;31m---------------------------------------------------------------------------\u001b[0m",
                        "\u001b[0;31mRuntimeError\u001b[0m                              Traceback (most recent call last)",
                        "\u001b[0;32m/tmp/ipykernel_43522/1987614210.py\u001b[0m in \u001b[0;36m<module>\u001b[0;34m\u001b[0m\n\u001b[0;32m----> 1\u001b[0;31m \u001b[0mtorch\u001b[0m\u001b[0;34m.\u001b[0m\u001b[0mwhere\u001b[0m\u001b[0;34m(\u001b[0m\u001b[0mx\u001b[0m \u001b[0;34m==\u001b[0m \u001b[0mr\u001b[0m\u001b[0;34m)\u001b[0m\u001b[0;34m\u001b[0m\u001b[0;34m\u001b[0m\u001b[0m\n\u001b[0m",
                        "\u001b[0;31mRuntimeError\u001b[0m: The size of tensor a (1164) must match the size of tensor b (3) at non-singleton dimension 2"
                    ]
                }
            ],
            "metadata": {}
        },
        {
            "cell_type": "code",
            "execution_count": 68,
            "source": [
                "x.shape"
            ],
            "outputs": [
                {
                    "output_type": "execute_result",
                    "data": {
                        "text/plain": [
                            "torch.Size([3, 874, 1164])"
                        ]
                    },
                    "metadata": {},
                    "execution_count": 68
                }
            ],
            "metadata": {}
        },
        {
            "cell_type": "code",
            "execution_count": 71,
            "source": [
                "road.shape"
            ],
            "outputs": [
                {
                    "output_type": "execute_result",
                    "data": {
                        "text/plain": [
                            "torch.Size([3, 1])"
                        ]
                    },
                    "metadata": {},
                    "execution_count": 71
                }
            ],
            "metadata": {}
        },
        {
            "cell_type": "code",
            "execution_count": 73,
            "source": [
                "r = road.squeeze(1)"
            ],
            "outputs": [],
            "metadata": {}
        },
        {
            "cell_type": "code",
            "execution_count": 91,
            "source": [
                "r = c[0]\n",
                "r"
            ],
            "outputs": [
                {
                    "output_type": "execute_result",
                    "data": {
                        "text/plain": [
                            "tensor([0.2510, 0.1255, 0.1255])"
                        ]
                    },
                    "metadata": {},
                    "execution_count": 91
                }
            ],
            "metadata": {}
        },
        {
            "cell_type": "code",
            "execution_count": 83,
            "source": [
                "c.shape"
            ],
            "outputs": [
                {
                    "output_type": "execute_result",
                    "data": {
                        "text/plain": [
                            "torch.Size([3, 5])"
                        ]
                    },
                    "metadata": {},
                    "execution_count": 83
                }
            ],
            "metadata": {}
        },
        {
            "cell_type": "code",
            "execution_count": 133,
            "source": [],
            "outputs": [
                {
                    "output_type": "execute_result",
                    "data": {
                        "text/plain": [
                            "torch.Size([3, 874, 1164])"
                        ]
                    },
                    "metadata": {},
                    "execution_count": 133
                }
            ],
            "metadata": {}
        },
        {
            "cell_type": "code",
            "execution_count": 134,
            "source": [
                "colors = torch.unique(x)\n",
                "print(colors)"
            ],
            "outputs": [
                {
                    "output_type": "stream",
                    "name": "stdout",
                    "text": [
                        "tensor([0.0000, 0.1255, 0.2510, 0.3765, 0.4000, 0.5020, 0.8000, 1.0000])\n"
                    ]
                }
            ],
            "metadata": {}
        },
        {
            "cell_type": "code",
            "execution_count": 109,
            "source": [
                "x.shape"
            ],
            "outputs": [
                {
                    "output_type": "execute_result",
                    "data": {
                        "text/plain": [
                            "torch.Size([1, 3, 874, 1164])"
                        ]
                    },
                    "metadata": {},
                    "execution_count": 109
                }
            ],
            "metadata": {}
        },
        {
            "cell_type": "code",
            "execution_count": 130,
            "source": [
                "c"
            ],
            "outputs": [
                {
                    "output_type": "execute_result",
                    "data": {
                        "text/plain": [
                            "tensor([[0.2510, 0.1255, 0.1255],\n",
                            "        [1.0000, 0.0000, 0.0000],\n",
                            "        [0.5020, 0.5020, 0.3765],\n",
                            "        [0.0000, 1.0000, 0.4000],\n",
                            "        [0.8000, 0.0000, 1.0000]])"
                        ]
                    },
                    "metadata": {},
                    "execution_count": 130
                }
            ],
            "metadata": {}
        },
        {
            "cell_type": "code",
            "execution_count": 114,
            "source": [
                "r = c[0]"
            ],
            "outputs": [],
            "metadata": {}
        },
        {
            "cell_type": "code",
            "execution_count": 132,
            "source": [
                "x"
            ],
            "outputs": [
                {
                    "output_type": "execute_result",
                    "data": {
                        "text/plain": [
                            "tensor([[[0.5020, 0.5020, 0.5020,  ..., 0.5020, 0.5020, 0.5020],\n",
                            "         [0.5020, 0.5020, 0.5020,  ..., 0.5020, 0.5020, 0.5020],\n",
                            "         [0.5020, 0.5020, 0.5020,  ..., 0.5020, 0.5020, 0.5020],\n",
                            "         ...,\n",
                            "         [0.8000, 0.8000, 0.8000,  ..., 0.8000, 0.8000, 0.8000],\n",
                            "         [0.8000, 0.8000, 0.8000,  ..., 0.8000, 0.8000, 0.8000],\n",
                            "         [0.8000, 0.8000, 0.8000,  ..., 0.8000, 0.8000, 0.8000]],\n",
                            "\n",
                            "        [[0.5020, 0.5020, 0.5020,  ..., 0.5020, 0.5020, 0.5020],\n",
                            "         [0.5020, 0.5020, 0.5020,  ..., 0.5020, 0.5020, 0.5020],\n",
                            "         [0.5020, 0.5020, 0.5020,  ..., 0.5020, 0.5020, 0.5020],\n",
                            "         ...,\n",
                            "         [0.0000, 0.0000, 0.0000,  ..., 0.0000, 0.0000, 0.0000],\n",
                            "         [0.0000, 0.0000, 0.0000,  ..., 0.0000, 0.0000, 0.0000],\n",
                            "         [0.0000, 0.0000, 0.0000,  ..., 0.0000, 0.0000, 0.0000]],\n",
                            "\n",
                            "        [[0.3765, 0.3765, 0.3765,  ..., 0.3765, 0.3765, 0.3765],\n",
                            "         [0.3765, 0.3765, 0.3765,  ..., 0.3765, 0.3765, 0.3765],\n",
                            "         [0.3765, 0.3765, 0.3765,  ..., 0.3765, 0.3765, 0.3765],\n",
                            "         ...,\n",
                            "         [1.0000, 1.0000, 1.0000,  ..., 1.0000, 1.0000, 1.0000],\n",
                            "         [1.0000, 1.0000, 1.0000,  ..., 1.0000, 1.0000, 1.0000],\n",
                            "         [1.0000, 1.0000, 1.0000,  ..., 1.0000, 1.0000, 1.0000]]])"
                        ]
                    },
                    "metadata": {},
                    "execution_count": 132
                }
            ],
            "metadata": {}
        },
        {
            "cell_type": "code",
            "execution_count": 129,
            "source": [
                "x[:,0:,0][].shape"
            ],
            "outputs": [
                {
                    "output_type": "execute_result",
                    "data": {
                        "text/plain": [
                            "torch.Size([874])"
                        ]
                    },
                    "metadata": {},
                    "execution_count": 129
                }
            ],
            "metadata": {}
        },
        {
            "cell_type": "code",
            "execution_count": 135,
            "source": [
                "r"
            ],
            "outputs": [
                {
                    "output_type": "execute_result",
                    "data": {
                        "text/plain": [
                            "tensor([0.2510, 0.1255, 0.1255])"
                        ]
                    },
                    "metadata": {},
                    "execution_count": 135
                }
            ],
            "metadata": {}
        },
        {
            "cell_type": "code",
            "execution_count": 136,
            "source": [
                "x.shape"
            ],
            "outputs": [
                {
                    "output_type": "execute_result",
                    "data": {
                        "text/plain": [
                            "torch.Size([3, 874, 1164])"
                        ]
                    },
                    "metadata": {},
                    "execution_count": 136
                }
            ],
            "metadata": {}
        },
        {
            "cell_type": "code",
            "execution_count": 142,
            "source": [
                "q = torch.zeros(x.shape[1:])\n",
                "m = (x[0] == r[0]) & (x[1] == r[1]) & (x[2] == r[2])\n"
            ],
            "outputs": [],
            "metadata": {}
        },
        {
            "cell_type": "markdown",
            "source": [],
            "metadata": {}
        },
        {
            "cell_type": "code",
            "execution_count": 143,
            "source": [
                "print(q.shape, m.shape)"
            ],
            "outputs": [
                {
                    "output_type": "stream",
                    "name": "stdout",
                    "text": [
                        "torch.Size([874, 1164]) torch.Size([874, 1164])\n"
                    ]
                }
            ],
            "metadata": {}
        },
        {
            "cell_type": "code",
            "execution_count": 144,
            "source": [
                "q[m] =1"
            ],
            "outputs": [],
            "metadata": {}
        },
        {
            "cell_type": "code",
            "execution_count": 145,
            "source": [
                "q\n"
            ],
            "outputs": [
                {
                    "output_type": "execute_result",
                    "data": {
                        "text/plain": [
                            "tensor([[0., 0., 0.,  ..., 0., 0., 0.],\n",
                            "        [0., 0., 0.,  ..., 0., 0., 0.],\n",
                            "        [0., 0., 0.,  ..., 0., 0., 0.],\n",
                            "        ...,\n",
                            "        [0., 0., 0.,  ..., 0., 0., 0.],\n",
                            "        [0., 0., 0.,  ..., 0., 0., 0.],\n",
                            "        [0., 0., 0.,  ..., 0., 0., 0.]])"
                        ]
                    },
                    "metadata": {},
                    "execution_count": 145
                }
            ],
            "metadata": {}
        },
        {
            "cell_type": "code",
            "execution_count": 146,
            "source": [
                "plt.imshow(q)\n",
                "plt.show()"
            ],
            "outputs": [
                {
                    "output_type": "display_data",
                    "data": {
                        "text/plain": [
                            "<Figure size 432x288 with 1 Axes>"
                        ],
                        "image/png": "[encoded data removed]"
                    },
                    "metadata": {
                        "needs_background": "light"
                    }
                }
            ],
            "metadata": {}
        },
        {
            "cell_type": "code",
            "execution_count": 150,
            "source": [
                "rtr = torch.unique(x, dim = 0)"
            ],
            "outputs": [],
            "metadata": {}
        },
        {
            "cell_type": "code",
            "execution_count": 152,
            "source": [
                "rtr.shape"
            ],
            "outputs": [
                {
                    "output_type": "execute_result",
                    "data": {
                        "text/plain": [
                            "torch.Size([3, 874, 1164])"
                        ]
                    },
                    "metadata": {},
                    "execution_count": 152
                }
            ],
            "metadata": {}
        },
        {
            "cell_type": "code",
            "execution_count": 154,
            "source": [
                "x.shape"
            ],
            "outputs": [
                {
                    "output_type": "execute_result",
                    "data": {
                        "text/plain": [
                            "torch.Size([3, 874, 1164])"
                        ]
                    },
                    "metadata": {},
                    "execution_count": 154
                }
            ],
            "metadata": {}
        },
        {
            "cell_type": "code",
            "execution_count": 155,
            "source": [
                "q = torch.zeros(x.shape[2:])"
            ],
            "outputs": [],
            "metadata": {}
        },
        {
            "cell_type": "code",
            "execution_count": 156,
            "source": [
                "q.shape"
            ],
            "outputs": [
                {
                    "output_type": "execute_result",
                    "data": {
                        "text/plain": [
                            "torch.Size([1164])"
                        ]
                    },
                    "metadata": {},
                    "execution_count": 156
                }
            ],
            "metadata": {}
        },
        {
            "cell_type": "code",
            "execution_count": 157,
            "source": [
                "c"
            ],
            "outputs": [
                {
                    "output_type": "execute_result",
                    "data": {
                        "text/plain": [
                            "tensor([[0.2510, 0.1255, 0.1255],\n",
                            "        [1.0000, 0.0000, 0.0000],\n",
                            "        [0.5020, 0.5020, 0.3765],\n",
                            "        [0.0000, 1.0000, 0.4000],\n",
                            "        [0.8000, 0.0000, 1.0000]])"
                        ]
                    },
                    "metadata": {},
                    "execution_count": 157
                }
            ],
            "metadata": {}
        },
        {
            "cell_type": "code",
            "execution_count": 158,
            "source": [
                "c[0]"
            ],
            "outputs": [
                {
                    "output_type": "execute_result",
                    "data": {
                        "text/plain": [
                            "tensor([0.2510, 0.1255, 0.1255])"
                        ]
                    },
                    "metadata": {},
                    "execution_count": 158
                }
            ],
            "metadata": {}
        },
        {
            "cell_type": "code",
            "execution_count": 159,
            "source": [
                "from dataloader import *"
            ],
            "outputs": [],
            "metadata": {}
        },
        {
            "cell_type": "code",
            "execution_count": 14,
            "source": [
                "impath = 'models/data/testmask.png'\n",
                "img = Image.open(impath)\n",
                "x = TF.to_tensor(img)\n",
                "x = x.unsqueeze(0)\n",
                "\n",
                "y = mask_encode(x, colourmap)\n",
                "print(y.shape)"
            ],
            "outputs": [
                {
                    "output_type": "error",
                    "ename": "AssertionError",
                    "evalue": "",
                    "traceback": [
                        "\u001b[0;31m---------------------------------------------------------------------------\u001b[0m",
                        "\u001b[0;31mAssertionError\u001b[0m                            Traceback (most recent call last)",
                        "\u001b[0;32m/tmp/ipykernel_6464/3143171937.py\u001b[0m in \u001b[0;36m<module>\u001b[0;34m\u001b[0m\n\u001b[1;32m      4\u001b[0m \u001b[0mx\u001b[0m \u001b[0;34m=\u001b[0m \u001b[0mx\u001b[0m\u001b[0;34m.\u001b[0m\u001b[0munsqueeze\u001b[0m\u001b[0;34m(\u001b[0m\u001b[0;36m0\u001b[0m\u001b[0;34m)\u001b[0m\u001b[0;34m\u001b[0m\u001b[0;34m\u001b[0m\u001b[0m\n\u001b[1;32m      5\u001b[0m \u001b[0;34m\u001b[0m\u001b[0m\n\u001b[0;32m----> 6\u001b[0;31m \u001b[0my\u001b[0m \u001b[0;34m=\u001b[0m \u001b[0mmask_encode\u001b[0m\u001b[0;34m(\u001b[0m\u001b[0mx\u001b[0m\u001b[0;34m,\u001b[0m \u001b[0mcolourmap\u001b[0m\u001b[0;34m)\u001b[0m\u001b[0;34m\u001b[0m\u001b[0;34m\u001b[0m\u001b[0m\n\u001b[0m\u001b[1;32m      7\u001b[0m \u001b[0mprint\u001b[0m\u001b[0;34m(\u001b[0m\u001b[0my\u001b[0m\u001b[0;34m.\u001b[0m\u001b[0mshape\u001b[0m\u001b[0;34m)\u001b[0m\u001b[0;34m\u001b[0m\u001b[0;34m\u001b[0m\u001b[0m\n",
                        "\u001b[0;32m~/Documents/scripts/segs/models/dataloader.py\u001b[0m in \u001b[0;36mmask_encode\u001b[0;34m(img, colourmap)\u001b[0m\n\u001b[1;32m     26\u001b[0m \u001b[0;32mdef\u001b[0m \u001b[0mmask_encode\u001b[0m\u001b[0;34m(\u001b[0m\u001b[0mimg\u001b[0m\u001b[0;34m,\u001b[0m \u001b[0mcolourmap\u001b[0m\u001b[0;34m)\u001b[0m\u001b[0;34m:\u001b[0m \u001b[0;31m#currently the dataloader is doing this for each image - should change this to do in batches\u001b[0m\u001b[0;34m\u001b[0m\u001b[0;34m\u001b[0m\u001b[0m\n\u001b[1;32m     27\u001b[0m     \u001b[0;31m#update later to pull the unique colors automatially\u001b[0m\u001b[0;34m\u001b[0m\u001b[0;34m\u001b[0m\u001b[0;34m\u001b[0m\u001b[0m\n\u001b[0;32m---> 28\u001b[0;31m     \u001b[0;32massert\u001b[0m\u001b[0;34m(\u001b[0m\u001b[0mlen\u001b[0m\u001b[0;34m(\u001b[0m\u001b[0mimg\u001b[0m\u001b[0;34m.\u001b[0m\u001b[0mshape\u001b[0m\u001b[0;34m)\u001b[0m \u001b[0;34m==\u001b[0m \u001b[0;36m3\u001b[0m\u001b[0;34m)\u001b[0m\u001b[0;34m\u001b[0m\u001b[0;34m\u001b[0m\u001b[0m\n\u001b[0m\u001b[1;32m     29\u001b[0m     \u001b[0m_\u001b[0m\u001b[0;34m,\u001b[0m \u001b[0mx\u001b[0m\u001b[0;34m,\u001b[0m \u001b[0my\u001b[0m \u001b[0;34m=\u001b[0m \u001b[0mimg\u001b[0m\u001b[0;34m.\u001b[0m\u001b[0mshape\u001b[0m\u001b[0;34m\u001b[0m\u001b[0;34m\u001b[0m\u001b[0m\n\u001b[1;32m     30\u001b[0m     \u001b[0mout\u001b[0m \u001b[0;34m=\u001b[0m \u001b[0mtorch\u001b[0m\u001b[0;34m.\u001b[0m\u001b[0mzeros\u001b[0m\u001b[0;34m(\u001b[0m\u001b[0mcolourmap\u001b[0m\u001b[0;34m.\u001b[0m\u001b[0mshape\u001b[0m\u001b[0;34m[\u001b[0m\u001b[0;36m0\u001b[0m\u001b[0;34m]\u001b[0m\u001b[0;34m,\u001b[0m \u001b[0mx\u001b[0m\u001b[0;34m,\u001b[0m \u001b[0my\u001b[0m\u001b[0;34m)\u001b[0m\u001b[0;34m\u001b[0m\u001b[0;34m\u001b[0m\u001b[0m\n",
                        "\u001b[0;31mAssertionError\u001b[0m: "
                    ]
                }
            ],
            "metadata": {}
        },
        {
            "cell_type": "code",
            "execution_count": 165,
            "source": [
                "fig, axs = plt.subplots(1,5)\n",
                "for ax, image in zip(axs.ravel(), y[0]):\n",
                "    ax.imshow(image)\n",
                "\n",
                "plt.show()\n"
            ],
            "outputs": [
                {
                    "output_type": "display_data",
                    "data": {
                        "text/plain": [
                            "<Figure size 432x288 with 5 Axes>"
                        ],
                        "image/png": "[encoded data removed]"
                    },
                    "metadata": {
                        "needs_background": "light"
                    }
                }
            ],
            "metadata": {}
        },
        {
            "cell_type": "code",
            "execution_count": 166,
            "source": [
                "import albumentations as albu\n"
            ],
            "outputs": [],
            "metadata": {}
        },
        {
            "cell_type": "code",
            "execution_count": 167,
            "source": [
                "x.shape"
            ],
            "outputs": [
                {
                    "output_type": "execute_result",
                    "data": {
                        "text/plain": [
                            "torch.Size([1, 3, 874, 1164])"
                        ]
                    },
                    "metadata": {},
                    "execution_count": 167
                }
            ],
            "metadata": {}
        },
        {
            "cell_type": "code",
            "execution_count": 168,
            "source": [
                "def get_validation_augmentation():\n",
                "    \"\"\"Add paddings to make image shape divisible by 32\"\"\"\n",
                "    test_transform = [\n",
                "        albu.PadIfNeeded(896, 1184)\n",
                "    ]\n",
                "    return albu.Compose(test_transform)"
            ],
            "outputs": [],
            "metadata": {}
        },
        {
            "cell_type": "code",
            "execution_count": 1,
            "source": [
                "from dataloader import *"
            ],
            "outputs": [
                {
                    "output_type": "error",
                    "ename": "ModuleNotFoundError",
                    "evalue": "No module named 'dataloader'",
                    "traceback": [
                        "\u001b[0;31m---------------------------------------------------------------------------\u001b[0m",
                        "\u001b[0;31mModuleNotFoundError\u001b[0m                       Traceback (most recent call last)",
                        "\u001b[0;32m/tmp/ipykernel_6464/420267464.py\u001b[0m in \u001b[0;36m<module>\u001b[0;34m\u001b[0m\n\u001b[0;32m----> 1\u001b[0;31m \u001b[0;32mfrom\u001b[0m \u001b[0mdataloader\u001b[0m \u001b[0;32mimport\u001b[0m \u001b[0;34m*\u001b[0m\u001b[0;34m\u001b[0m\u001b[0;34m\u001b[0m\u001b[0m\n\u001b[0m",
                        "\u001b[0;31mModuleNotFoundError\u001b[0m: No module named 'dataloader'"
                    ]
                }
            ],
            "metadata": {}
        },
        {
            "cell_type": "code",
            "execution_count": 2,
            "source": [
                "os.getcwd()"
            ],
            "outputs": [
                {
                    "output_type": "execute_result",
                    "data": {
                        "text/plain": [
                            "'/home/sean/Documents/scripts/segs'"
                        ]
                    },
                    "metadata": {},
                    "execution_count": 2
                }
            ],
            "metadata": {}
        },
        {
            "cell_type": "code",
            "execution_count": 3,
            "source": [
                "from models.dataloader import *"
            ],
            "outputs": [
                {
                    "output_type": "stream",
                    "name": "stdout",
                    "text": [
                        "/home/sean/Documents/scripts/segs\n"
                    ]
                }
            ],
            "metadata": {}
        },
        {
            "cell_type": "code",
            "execution_count": 17,
            "source": [
                "imgdir = 'comma10k/imgs'\n",
                "maskdir = 'comma10k/masks'\n",
                "\n",
                "# ENCODER = 'efficientnet-b3'\n",
                "# ENCODER_WEIGHTS = 'imagenet'\n",
                "# CLASSES = 16\n",
                "# ACTIVATION = 'softmax'\n",
                "# DEVICE = torch.device('cuda')\n",
                "\n",
                "# preprocessing_fn = smp.encoders.get_preprocessing_fn(ENCODER, ENCODER_WEIGHTS)\n",
                "\n",
                "# preprocessing_fn = smp.encoders.get_preprocessing_fn(ENCODER, ENCODER_WEIGHTS)\n",
                "train_dset = ImageDataset(imgdir, maskdir)#, augmentation=get_training_augmentation(), preprocessing=get_preprocessing(preprocessing_fn))\n",
                "trainloader = DataLoader(train_dset, batch_size=4, shuffle=True, num_workers=12)\n",
                "\n",
                "x = train_dset.__getitem__(0)"
            ],
            "outputs": [],
            "metadata": {}
        },
        {
            "cell_type": "code",
            "execution_count": 25,
            "source": [
                "# import matplotlib.pyplot as plt\n",
                "y = x[1]\n",
                "fig, axs = plt.subplots(1,5)\n",
                "for ax, image in zip(axs.ravel(), y):\n",
                "    ax.imshow(image)\n",
                "\n",
                "plt.show()"
            ],
            "outputs": [
                {
                    "output_type": "display_data",
                    "data": {
                        "text/plain": [
                            "<Figure size 432x288 with 5 Axes>"
                        ],
                        "image/png": "[encoded data removed]"
                    },
                    "metadata": {
                        "needs_background": "light"
                    }
                }
            ],
            "metadata": {}
        },
        {
            "cell_type": "code",
            "execution_count": 18,
            "source": [
                "x.shape"
            ],
            "outputs": [
                {
                    "output_type": "error",
                    "ename": "AttributeError",
                    "evalue": "'tuple' object has no attribute 'shape'",
                    "traceback": [
                        "\u001b[0;31m---------------------------------------------------------------------------\u001b[0m",
                        "\u001b[0;31mAttributeError\u001b[0m                            Traceback (most recent call last)",
                        "\u001b[0;32m/tmp/ipykernel_6464/27184367.py\u001b[0m in \u001b[0;36m<module>\u001b[0;34m\u001b[0m\n\u001b[0;32m----> 1\u001b[0;31m \u001b[0mx\u001b[0m\u001b[0;34m.\u001b[0m\u001b[0mshape\u001b[0m\u001b[0;34m\u001b[0m\u001b[0;34m\u001b[0m\u001b[0m\n\u001b[0m",
                        "\u001b[0;31mAttributeError\u001b[0m: 'tuple' object has no attribute 'shape'"
                    ]
                }
            ],
            "metadata": {}
        },
        {
            "cell_type": "code",
            "execution_count": 24,
            "source": [
                "for image in y:\n",
                "    print(image.shape)"
            ],
            "outputs": [
                {
                    "output_type": "stream",
                    "name": "stdout",
                    "text": [
                        "torch.Size([896, 1184])\n",
                        "torch.Size([896, 1184])\n",
                        "torch.Size([896, 1184])\n",
                        "torch.Size([896, 1184])\n",
                        "torch.Size([896, 1184])\n"
                    ]
                }
            ],
            "metadata": {}
        },
        {
            "cell_type": "code",
            "execution_count": 7,
            "source": [
                "import matplotlib.image as mpimg\n",
                "import matplotlib.pyplot as plt\n",
                "p = 'comma10k/masks/0687_a3c72848ebd486ca_2018-07-25--18-28-45_15_1198.png'\n",
                "q = mpimg.imread(p)\n",
                "plt.imshow(q)\n",
                "plt.show()"
            ],
            "outputs": [
                {
                    "output_type": "display_data",
                    "data": {
                        "text/plain": [
                            "<Figure size 432x288 with 1 Axes>"
                        ],
                        "image/png": "[encoded data removed]"
                    },
                    "metadata": {
                        "needs_background": "light"
                    }
                }
            ],
            "metadata": {}
        },
        {
            "cell_type": "code",
            "execution_count": null,
            "source": [],
            "outputs": [],
            "metadata": {}
        }
    ],
    "metadata": {
        "orig_nbformat": 4,
        "language_info": {
            "name": "python",
            "version": "3.8.10",
            "mimetype": "text/x-python",
            "codemirror_mode": {
                "name": "ipython",
                "version": 3
            },
            "pygments_lexer": "ipython3",
            "nbconvert_exporter": "python",
            "file_extension": ".py"
        },
        "kernelspec": {
            "name": "python3",
            "display_name": "Python 3.8.10 64-bit ('learnEnv': venv)"
        },
        "interpreter": {
            "hash": "a3e306e469c8784280da90005661c0cb44c2d79f80ea850981f9f00e27355ca3"
        }
    },
    "nbformat": 4,
    "nbformat_minor": 2
}